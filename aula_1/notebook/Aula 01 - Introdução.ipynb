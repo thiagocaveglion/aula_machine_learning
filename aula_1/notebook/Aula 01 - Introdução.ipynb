{
 "cells": [
  {
   "cell_type": "markdown",
   "metadata": {},
   "source": [
    "# Boas-vindas ao módulo de Machine Learning I!\n",
    "\n",
    "- Professor : Carlos Stefano\n",
    "    - Linkedin: https://www.linkedin.com/in/carlos-stefano/\n",
    "    \n",
    "\n",
    "- **ML1: 06/10 a 27/10**\n",
    "(Lembrando que **não** teremos aula no dia 13/10, devido à emenda de feriado!)\n",
    "____\n",
    "[**Formulário de início de módulo**](https://docs.google.com/forms/d/e/1FAIpQLSfGDHx9bp1gZOaiFdvzJVw7UvkLe8gbgYHc3WR6FyetujIXlg/viewform?usp=sf_link)"
   ]
  },
  {
   "cell_type": "markdown",
   "metadata": {},
   "source": [
    "___\n",
    "# Aula 01 - Introdução\n",
    "\n",
    "____________\n",
    "\n",
    "A esta altura, estamos no encaminhando para o fim do nosso curso!\n",
    "\n",
    "Parabéns por ter chegado até aqui --- certamente a jornada foi de muito aprendizado, estudo e dedicação!\n",
    "\n",
    "A partir de hoje, iniciaremos nossos estudos em **machine learning**, e aprenderemos um conjunto de técnicas que é fundamental para todo cientista de dados.\n",
    "\n",
    "Antes de começarmos a nos aprofundar no conteúdo, vamos fazer uma pequena revisão do contexto geral de ciência de dados, e introduzir um pouco de terminologia."
   ]
  },
  {
   "cell_type": "markdown",
   "metadata": {},
   "source": [
    "____"
   ]
  },
  {
   "cell_type": "markdown",
   "metadata": {},
   "source": [
    "## Data Science\n",
    "\n",
    "Como o próprio nome diz, o termo **Data Science** se refere a um conjunto de técnicas e ferramentas utilizadas para a resolução de problemas segundo uma abordagem **data driven**, isto é, **baseada em dados**, cujo objetivo é direcionar o processo de **tomada de decisão** e/ou **produção de novos insights**!\n",
    "\n",
    "Ciência de dados é uma área interdisciplinar baseada em três pilares, conforme a imagem abaixo:\n",
    "\n",
    "<img src=https://s3.amazonaws.com/uploads.hotmart.com/blog/2018/04/data-science-1.png>"
   ]
  },
  {
   "cell_type": "markdown",
   "metadata": {},
   "source": [
    "___"
   ]
  },
  {
   "cell_type": "markdown",
   "metadata": {},
   "source": [
    "## A jornada de um projeto de Data Science\n",
    "\n",
    "Um projeto de data science é dividido, essencialmente, nas seguintes etapas:\n",
    "\n",
    "- 0) Formulação do problema;\n",
    "- 1) Ingestão dos dados;\n",
    "- 2) Preparação dos dados;\n",
    "- 3) Exploração dos dados;\n",
    "- 4) Modelagem;\n",
    "- 5) Apresentação ou deploy;\n",
    "\n",
    "Depois da etapa 0), a mais trabalhosa (e que provavelmente mais vai levar tempo) são de 2) a 3)!\n",
    "\n",
    "E há quem diga que estas são as etapas mais importantes! **(Garbage in, garbage out!)**"
   ]
  },
  {
   "cell_type": "markdown",
   "metadata": {},
   "source": [
    "Além disso, vale ressaltar que a etapa inicial, **Formulação do problema**, pode parecer banal, mas, em realidade, **ela é fundamental para que o restante do desenvolvimento de um projeto em Ciência de Dados seja bem sucedido!** Sem o entendimento e formulação apropriados do problema, podemos cair em \"armadilhas\" e acabar resolvendo outros problemas, que não aquele que precisávamos originalmente resolver!\n",
    "\n",
    "Assim, é muito importante entender bem o problema, e sabermos formular o quê, exatamente, precisamos responder."
   ]
  },
  {
   "cell_type": "markdown",
   "metadata": {},
   "source": [
    "<img src=\"https://www.abgconsultoria.com.br/blog/wp-content/uploads/img33-768x242.png\" width=700>"
   ]
  },
  {
   "cell_type": "markdown",
   "metadata": {},
   "source": [
    "<img src=\"https://www.researchgate.net/profile/Eduardo_Garcia_Del_Valle/publication/327612291/figure/fig4/AS:670200676511747@1536799701256/Sequence-of-functional-units-of-a-data-science-pipeline-including-data.ppm\" width=700>"
   ]
  },
  {
   "cell_type": "markdown",
   "metadata": {},
   "source": [
    "Até o momento, conhecemos diversas técnicas e ferramentas para executamos os passos de 0) a 3).\n",
    "\n",
    "Finalmente, chegou o momento de começarmos a explorar etapa 4)!\n",
    "\n",
    "Vamos então, inicialmente, enunciar alguns termos e conceitos importantes."
   ]
  },
  {
   "cell_type": "markdown",
   "metadata": {},
   "source": [
    "___\n",
    "## Inteligência Artificial\n",
    "\n",
    "É a área que estuda sistemas computacionais **capazes de realizar tarefas que normalmente exigiriam interferência ou ação humana**, mediada pela inteligência natural.\n",
    "\n",
    "Algumas das tarefas que originalmente demandam inteligência natural são: \n",
    "\n",
    "- **percepção visual**;\n",
    "- **reconhecimento de fala**;\n",
    "- **tomada de decisão**;\n",
    "- **tradução entre línguas naturais**.\n",
    "\n",
    "É formidável imaginar que estas tarefas possam ser realizadas por sistemas que não desenvolveram biologicamente o que conhecemos por \"inteligência\". No entanto, este é justamente o objetvio da AI: fazer com que sistemas computacionais resolvam tais tarefas!\n",
    "\n",
    "Neste curso, focaremos em apenas uma **sub-área** da AI, o **Aprendizado de Máquina** (no inglês, **Machine Learning**).\n",
    "\n",
    "<img src=\"https://www.researchgate.net/profile/Ma_Louella_Salenga/publication/324183626/figure/fig1/AS:611807588798464@1522877704466/Fields-of-artificial-intelligence-10.png\" width=650>"
   ]
  },
  {
   "cell_type": "markdown",
   "metadata": {},
   "source": [
    "E também é importante dizer que não apenas de Machine Learning se faz a ciência de dados!\n",
    "\n",
    "<img src=\"https://miro.medium.com/max/1000/1*_0A4I9mXjl6H0Qw401qWRg.png\" width=500>"
   ]
  },
  {
   "cell_type": "markdown",
   "metadata": {},
   "source": [
    "____"
   ]
  },
  {
   "cell_type": "markdown",
   "metadata": {},
   "source": [
    "## Machine Learning\n",
    "\n",
    "A **aprendizagem de máquina** se divide em três grandes áreas, cada uma caracterizada por uma abordagem e escopo específicos:\n",
    "\n",
    "<img src=\"https://i.pinimg.com/originals/67/70/5d/67705d8c7aee0c6b601c16548076e924.png\" width=700>"
   ]
  },
  {
   "cell_type": "markdown",
   "metadata": {},
   "source": [
    "### Deep Learning\n",
    "\n",
    "**Redes neurais artificiais profundas**\n",
    "\n",
    "<img src=\"https://www.institutodeengenharia.org.br/site/wp-content/uploads/2019/04/2.png\" width=650>\n",
    "    \n",
    "<br>\n",
    "\n",
    "<img src=\"https://i2.wp.com/semiengineering.com/wp-content/uploads/2018/01/MLvsDL.png?resize=733%2C405&ssl=1\" width=650>\n",
    "\n",
    "<br>\n",
    "\n",
    "<img src=\"https://www.researchgate.net/publication/331540139/figure/fig3/AS:733273504378885@1551837435876/The-performance-of-deep-learning-with-respect-to-the-amount-of-data.ppm\" width=600>"
   ]
  },
  {
   "cell_type": "markdown",
   "metadata": {},
   "source": [
    "____"
   ]
  },
  {
   "cell_type": "markdown",
   "metadata": {},
   "source": [
    "## O que é \"modelagem\"?\n",
    "\n",
    "Já vimos anteriormente do que se trata machine learning, em um sentido mais amplo.\n",
    "\n",
    "Agora, o que exatamente é a \"modelagem\"? Ou melhor, **o que queremos alcançar ao construir um modelo?** \n",
    "\n",
    "Ou ainda, **o que um modelo representa?**\n",
    "\n",
    "Em linhas gerais, construímos um modelo com o objetivo de **representar a realidade** de maneira quantitativa e matemática.\n",
    "\n",
    "> Um modelo é uma descrição matemática/quantitativa de algum aspecto do problema que desejamos resolver."
   ]
  },
  {
   "cell_type": "markdown",
   "metadata": {},
   "source": [
    "Muitaz vezes, nos interessa **descobrir relações** em nosso universo de interesse, como, por exemplo, como as variáveis **se relacionam para produzir determinado resultado** ou **como elas estão estruturadas**.\n",
    "\n",
    "> É possível descobrir essas relações e estruturas partindo de uma **teoria**, em uma abordagem que chama-se **theory-driven**. Neste caso, partimos de **princípios fundamentais** para explicar o universo de interesse.\n",
    "\n",
    "> Como a abordagem acima é usualmente bastante complexa, partimos para a aboragem **data-driven**, na qual **coletamos amostras do universo de interesse**, e essa amostra é utilizada para que tiremos conclusões, descubramos relações, etc.\n",
    "\n",
    "Observação: muitas vezes, **ambas as abordagens são utilizadas simultaneamente!** Elas não são exludentes!\n",
    "\n",
    "Ambas as abordagens resultam em **um modelo** para descrever a realidade.\n",
    "\n",
    "Contudo, a segunda abordagem é **muito mais dependente da estatística**, para que seja possível avaliar **o quanto você pode confiar no modelo que você construiu**, ou ainda, **o quão útil ele é**.\n",
    "\n",
    "## <i>\"All models are wrong. But some are useful.\"\n",
    "_______"
   ]
  },
  {
   "cell_type": "markdown",
   "metadata": {},
   "source": [
    "Quando utilizamos **Machine Learning** para construir um modelo, os detalhes desta representação são **determinados (“aprendidos”)** a partir de dados, empiricamente, em contraste a uma abordagem theory-driven.\n",
    "\n",
    "Em geral, resolver um problema utilizando técnicas de ML é uma boa ideia se:\n",
    "\n",
    "    • Há dados disponíveis sobre o problema em questão;\n",
    "\n",
    "    • Existe um padrão que é refletido nos dados;\n",
    "\n",
    "    • Uma descrição teórica não é praticável."
   ]
  },
  {
   "cell_type": "markdown",
   "metadata": {},
   "source": [
    "No fim, todo modelo será representado **por uma equação matemática**.\n",
    "\n",
    "No entanto, essa equação pode ser extremamente complexa, de modo que raramente seremos capazes de escrever a equação completa. Mas não se preocupe com isso!\n",
    "\n",
    "<img src=\"https://miro.medium.com/max/2404/1*yLvf2jr_TNkEe9PKYOBDkA.png\" width=500>\n",
    "\n",
    "<img src=\"https://st3.ning.com/topology/rest/1.0/file/get/2808372468?profile=original\" width=500>\n",
    "\n",
    "____"
   ]
  },
  {
   "cell_type": "markdown",
   "metadata": {},
   "source": [
    "Muitas vezes, um modelo complexo não é necessário. \n",
    "\n",
    "Há problemas que são resolvidos com uma simples média!!\n",
    "\n",
    "Então, é muito importante que você como cientista de dados **foque em resolver o problema**, não importa como você fará isso. **Não tente matar uma mosca com um canhão!**\n",
    "\n",
    "É importante, sim, que você **tenha conhecimentos amplos** sobre o maior número possível de técnicas e ferramentas!\n",
    "\n",
    "\n",
    "Mas isso não quer dizer que você **precisa** de machine learning sempre! \n",
    "\n",
    "Então, novamente: foco no problema, não na técnica pela técnica com fim em si mesma!\n",
    "\n",
    "____"
   ]
  },
  {
   "cell_type": "markdown",
   "metadata": {},
   "source": [
    "Vamos focar agora um pouco mais no **ciclo de modelagem**:"
   ]
  },
  {
   "cell_type": "markdown",
   "metadata": {},
   "source": [
    "<img src=\"https://miro.medium.com/max/656/0*FKrWuLRbB_MiEIKh\">"
   ]
  },
  {
   "cell_type": "markdown",
   "metadata": {},
   "source": [
    "- **Conjunto de dados de treino**: são os dados utilizados para a construção do modelo, os dados que o modelo utilizará \"para aprender\"\n",
    "\n",
    "\n",
    "- **Treinamento do modelo/aprendizagem**: é a etapa em que cálculos matemáticos são feitos para que a equação que descreve o modelo seja criada! É assim que \"o modelo aprende!\". Não se preocupe: usaremos bibliotecas para fazer isso!\n",
    "\n",
    "\n",
    "- **Conjunto de dados de teste**: conjunto de dados utilizado para testar o modelo após ele ter sido treinado.\n",
    "\n",
    "\n",
    "- **Avaliação do modelo**: forma de avaliar a performance do modelo. Há várias métricas e formas diferentes de avaliação, que conheceremos melhor mais tarde."
   ]
  },
  {
   "cell_type": "markdown",
   "metadata": {},
   "source": [
    "Além dos elementos discutidos acima, há dois conceitos importantes, que veremos em maiores detalhes mais adiante no curso:\n",
    "\n",
    "- **Conjunto de dados de validação**: conjunto de dados usados para testar o modelo ainda em desenvolvimento, sobretudo com o objetivo de otimização de hiperparâmetros. Vamos discutir melhor sua importância quando falarmos de validação cruzada.\n",
    "\n",
    "- **Seleção de hiperparâmetros/seleção de modelo**: etapa em que os hiperperâmetros que constituem o modelo são selecionados. Aqui, técnicas como **grid search** e **cross validation** são muito importantes! Falaremos disso mais tarde.\n",
    "\n",
    "\n",
    "<img src=\"https://cdn-images-1.medium.com/max/1000/1*ZiYvylk60EY2XG7ck1lqJA.png\" width=400>\n",
    "\n",
    "___________"
   ]
  },
  {
   "cell_type": "markdown",
   "metadata": {},
   "source": [
    "No esquema acima, fica evidente que há duas grandes etapas no **ciclo de modelagem**:\n",
    "\n",
    "### Passo 1: construção do modelo\n",
    "\n",
    "### Passo 2: avaliação do modelo\n",
    "\n",
    "No decorrer do curso, vamos entender a fundo cada uma destas etapas, e as ferramentas associadas a cada uma delas!\n",
    "\n",
    "___________"
   ]
  },
  {
   "cell_type": "markdown",
   "metadata": {},
   "source": [
    "Nas aulas seguintes vamos estudar exemplos específicos de como iterar no ciclo de machine learning.\n",
    "\n",
    "Veremos que, de forma geral, o processo consiste em:\n",
    "\n",
    "- 0) Conhecer os dados com os quais estamos trabalhando --- fazer todo o processo de EDA, etc., etc.\n",
    "\n",
    "\n",
    "- 1) Importar a **classe do estimador que se deseja treinar** - escolher a hipótese!\n",
    "    - Usaremos a biblioteca [scikit-learn](https://scikit-learn.org/stable/)\n",
    "  \n",
    "  \n",
    "- 2) Instanciar a classe do estimador, **escolhendo os hiperparâmetros desejados**\n",
    "    - Para a primeira versão do modelo, pode ser uma boa escolha utilizar os hiperparâmetros default;\n",
    "    - Veremos mais pra frente como escolher os hiperparâmetros adequadamente;\n",
    "   \n",
    "   \n",
    "- 3) Separe os dados em **dados de treino** e **dados de teste**.\n",
    "    - Em alguns casos, pode ser interessante criar também um conjunto de **dados de validação**\n",
    "    - Para fazer a separação, usamos o [train-test split](https://scikit-learn.org/stable/modules/generated/sklearn.model_selection.train_test_split.html)\n",
    "    \n",
    "    \n",
    "- 4) Treine o modelo, usando **os dados de treino**\n",
    "\n",
    "\n",
    "- 5) Use o modelo treinado para **fazer previsões** usando os **dados de teste** (ou **de validação**)\n",
    "\n",
    "\n",
    "- 6) **Avalie a performance do modelo com base nas previsões acima**\n",
    "\n",
    "\n",
    "- 7) Se necessário, reinicie o ciclo!\n",
    "\n",
    "\n",
    "- 8) Quando o modelo estiver suficientemente bom, faça o **deploy**"
   ]
  },
  {
   "cell_type": "markdown",
   "metadata": {},
   "source": [
    "_____\n",
    "\n",
    "Antes de criarmos qualquer modelo, precisamos nos perguntar: **que tipo de problema estou querendo resolver?**\n",
    "\n",
    "Pois o algoritmo de ML que você vai utilizar depende diretamente do tipo de problema que você deseja resolver!\n",
    "\n",
    "Como um guia inicial, a imagem a seguir é muitíssimo útil:"
   ]
  },
  {
   "cell_type": "markdown",
   "metadata": {},
   "source": [
    "<img src=\"https://scikit-learn.org/stable/_static/ml_map.png\" width=900>\n",
    "\n",
    "[Clique Aqui](https://scikit-learn.org/stable/tutorial/machine_learning_map/index.html) para a versão interativa online com links para as páginas de cada estimador!"
   ]
  },
  {
   "cell_type": "markdown",
   "metadata": {},
   "source": [
    "___________\n",
    "\n",
    "Inicialmente, focaremos em métodos de **aprendizagem supervisionada**, que nos auxiliarão a endereçar problemas de **regressão** e **classificação**, que se diferem de maneira muito simples:\n",
    "\n",
    "> Um problema de regressão tem **target contínuo**;\n",
    "\n",
    "> Um problema de classificação **tem target discreto**;\n",
    "\n",
    "<img src=https://static.javatpoint.com/tutorial/machine-learning/images/regression-vs-classification-in-machine-learning.png width=400>\n",
    "\n",
    "<img src=https://miro.medium.com/max/1400/1*wH09k0DhF4JQhVMymtVQHQ.jpeg width=400>\n",
    "\n",
    "A diferenciação entre problemas de classificação e regressão é muito importante (e muito simples de fazer, conforme indicado acima!), sendo nosso principal guia para a determinação dos métodos a serem utilizados tanto na construção quanto na avaliação de um modelo!"
   ]
  },
  {
   "cell_type": "markdown",
   "metadata": {},
   "source": [
    "____\n",
    "\n",
    "Nas próximas aulas, vamos ver exemplos específicos de algoritmos e problemas que eles resolvem.\n",
    "\n",
    "Nossa abordagem será prática e direta. Falaremos brevemente da teoria, mas evitaremos detalhes matemáticos desnecessariamente profundos.\n",
    "\n",
    "Para quem tiver interessado em descobrir mais a fundo sobre os modelos que vamos discutir, recomendo [este livro](https://www.statlearning.com/) para uma primeira exposição, e [este livro](https://web.stanford.edu/~hastie/ElemStatLearn/) para uma abordagem ainda mais profunda e detalhada!\n",
    "\n",
    "Durante as aulas, tocaremos em alguns conceitos da chamada **teoria de aprendizagem estatística**, que é a teoria matemática que fundamenta o que é feito em ML. Aos interessados em maior formalização matemática, indico [este curso](https://work.caltech.edu/telecourse), para uma introdução com rigor matemático, mas acessível; e indico [este livro](https://cs.nyu.edu/~mohri/mlbook/) para quem quiser se aprofundar mais na matemática."
   ]
  },
  {
   "cell_type": "markdown",
   "metadata": {},
   "source": [
    "______\n",
    "\n",
    "E para quem quise descobir um pouco mais sobre estatística, inferência, e as bases para ML, recomendo alguns dos livros [deste site](https://www.openintro.org/book/stat/). O site também tem ótimos tutoriais e um fórum!"
   ]
  },
  {
   "cell_type": "markdown",
   "metadata": {},
   "source": [
    "# Voltamos às 20h31"
   ]
  },
  {
   "cell_type": "markdown",
   "metadata": {},
   "source": [
    "___\n",
    "## Vamos praticar?"
   ]
  },
  {
   "cell_type": "markdown",
   "metadata": {},
   "source": [
    "Apesar de ainda não termos começado a estudar modelos específicos, pode ser interessante tentarmos formular abordagens para tentar resolver problemas em Ciência de Dados!\n",
    "\n",
    "[Esta base de dados](https://www.kaggle.com/datasets/fedesoriano/stroke-prediction-dataset) traz um conjunto de pacientes com algumas características fisiológicas, e uma varíavel-alvo que indica se aquele paciente teve, ou não, um acidente vascular cerebral (AVC). Você consegue pensar em maneiras de tentar prever se um dado paciente terá um AVC, a partir de suas características fisiológicas?\n",
    "\n",
    "**Importante:** para esse exercício, tente explorar abordagens **sem** utilizar modelos de Machine Learning!"
   ]
  }
 ],
 "metadata": {
  "kernelspec": {
   "display_name": "Python 3",
   "language": "python",
   "name": "python3"
  },
  "language_info": {
   "codemirror_mode": {
    "name": "ipython",
    "version": 3
   },
   "file_extension": ".py",
   "mimetype": "text/x-python",
   "name": "python",
   "nbconvert_exporter": "python",
   "pygments_lexer": "ipython3",
   "version": "3.11.5"
  },
  "varInspector": {
   "cols": {
    "lenName": 16,
    "lenType": 16,
    "lenVar": 40
   },
   "kernels_config": {
    "python": {
     "delete_cmd_postfix": "",
     "delete_cmd_prefix": "del ",
     "library": "var_list.py",
     "varRefreshCmd": "print(var_dic_list())"
    },
    "r": {
     "delete_cmd_postfix": ") ",
     "delete_cmd_prefix": "rm(",
     "library": "var_list.r",
     "varRefreshCmd": "cat(var_dic_list()) "
    }
   },
   "types_to_exclude": [
    "module",
    "function",
    "builtin_function_or_method",
    "instance",
    "_Feature"
   ],
   "window_display": false
  }
 },
 "nbformat": 4,
 "nbformat_minor": 4
}
